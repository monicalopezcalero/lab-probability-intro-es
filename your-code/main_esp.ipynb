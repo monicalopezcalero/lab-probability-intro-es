{
 "cells": [
  {
   "cell_type": "markdown",
   "metadata": {},
   "source": [
    "# Probability"
   ]
  },
  {
   "cell_type": "markdown",
   "metadata": {},
   "source": [
    "## Reto 1\n",
    "Hay una caja con 10 bolas blancas, 12 bolas rojas y 8 bolas negras. Calcula la probabilidad de:\n",
    "* Sacar una bola blanca.\n",
    "* Sacar una bola blanca en la primera extracción y una bola negra en la segunda extracción sin reemplazar la primera.\n",
    "* Sacar una bola blanca en la primera extracción y una bola negra en la segunda extracción reemplazando la primera.\n",
    "* Sacar 3 bolas y que sean todas de diferentes colores."
   ]
  },
  {
   "cell_type": "code",
   "execution_count": 3,
   "metadata": {},
   "outputs": [
    {
     "name": "stdout",
     "output_type": "stream",
     "text": [
      "0.3333333333333333 0.09195402298850575 0.08888888888888888 0.23645320197044334\n"
     ]
    }
   ],
   "source": [
    "whites = 10\n",
    "reds = 12\n",
    "blacks = 8\n",
    "\n",
    "pwhites1 = whites / (whites + reds + blacks)\n",
    "\n",
    "pwhite1black2 = pwhites1 * (blacks /(whites + reds + blacks - 1))\n",
    "\n",
    "pwhiteblack = pwhites1 * (blacks / (whites + reds + blacks))\n",
    "\n",
    "# 3 balls different colors --> There are 6 permutations of this (3!)\n",
    "\n",
    "pdifferent = ((whites * reds * blacks) / ((whites + reds + blacks) * (whites + reds + blacks - 1) * (whites + reds + blacks - 2))) * 6\n",
    "\n",
    "print(pwhites1, pwhite1black2, pwhiteblack, pdifferent)"
   ]
  },
  {
   "cell_type": "markdown",
   "metadata": {},
   "source": [
    "## Reto 2\n",
    "\n",
    "Quieres ir de picnic el sábado. Odias la lluvia y quieres planificar tu fin de semana. Para ayudarte a tomar una decisión, recopilas los siguientes datos sobre los días lluviosos:\n",
    "\n",
    "* El 40% de todos los días están nublados.\n",
    "* Aproximadamente el 50% de los días nublados son lluviosos.\n",
    "* Aproximadamente el 20% de los días no nublados son lluviosos.\n",
    "\n",
    "¿Cuál es la probabilidad de que llueva el próximo sábado?"
   ]
  },
  {
   "cell_type": "code",
   "execution_count": 13,
   "metadata": {},
   "outputs": [
    {
     "data": {
      "text/plain": [
       "0.32"
      ]
     },
     "execution_count": 13,
     "metadata": {},
     "output_type": "execute_result"
    }
   ],
   "source": [
    "pcloudy = 0.4\n",
    "pcloudy_rainy = 0.5\n",
    "pnocloudy_rainy = 0.2\n",
    "\n",
    "saturday_rain = (pcloudy * pcloudy_rainy) + ((1 - pcloudy) * pnocloudy_rainy)\n",
    "saturday_rain"
   ]
  },
  {
   "cell_type": "markdown",
   "metadata": {},
   "source": [
    "## Reto 3\n",
    "\n",
    "A y B son eventos de una probabilidad tal que \\(P(A) = 0.3\\), \\(P(B) = 0.6\\) y \\(P(A \\cap B) = 0.1\\)\n",
    "\n",
    "¿Cuáles de las siguientes afirmaciones son verdaderas?\n",
    "**SUGERENCIA: dibuja un gran diagrama de Venn a tu lado**\n",
    "* \\(P(\\overline{A}) = 0.7\\)\n",
    "* \\(P(A \\cup B) = 0.6\\) -- Esta es falsa porque hay que restar la interseccion de A y B para que no se sume dos veces\n",
    "* \\(P(A \\cap \\overline{B}) = 0.2\\)\n",
    "* \\(P(A \\cup \\overline{A}) = 1\\)  \n",
    "* \\(P(A \\cap (B \\cup \\overline{B})) = 0.4\\)\n",
    "* \\(P(\\overline{A} \\cap \\overline{B}) = 0.3\\)\n",
    "* \\(P(\\overline{A \\cap B}) = 0.9\\)"
   ]
  },
  {
   "cell_type": "markdown",
   "metadata": {},
   "source": [
    "Son verdaderas:\n",
    "- (P(\\overline{A}) = 0.7)\n",
    "- (P(A \\cap \\overline{B}) = 0.2)\n",
    "- (P(A \\cup \\overline{A}) = 1)\n",
    "- (P(\\overline{A \\cap B}) = 0.9)"
   ]
  },
  {
   "cell_type": "markdown",
   "metadata": {},
   "source": [
    "## Reto 4\n",
    "\n",
    "* Si alguien viaja a China, la probabilidad de contraer Covid es del 1%\n",
    "* Si alguien viaja a Italia, la probabilidad de contraer Covid es del 20%\n",
    "\n",
    "Lanzo un dado con números 1, 2, 3, 4, 5, 6:\n",
    "* Si sale 1: Vuelo a Italia\n",
    "* Si no sale 1: Vuelo a China\n",
    "\n",
    "Durante mi viaje, contraje Covid. ¿Cuál es la probabilidad de que haya volado a China?"
   ]
  },
  {
   "cell_type": "code",
   "execution_count": 18,
   "metadata": {},
   "outputs": [
    {
     "data": {
      "text/plain": [
       "0.2"
      ]
     },
     "execution_count": 18,
     "metadata": {},
     "output_type": "execute_result"
    }
   ],
   "source": [
    "p_covid_china = 0.01\n",
    "p_covid_italy = 0.20\n",
    "\n",
    "trip_italy = (1/6)\n",
    "trip_china = (5/6)\n",
    "\n",
    "p_covid = (trip_china * p_covid_china) + (trip_italy * p_covid_italy)\n",
    "\n",
    "p_china_given_covid = ((p_covid_china) * trip_china) / p_covid\n",
    "p_china_given_covid"
   ]
  },
  {
   "cell_type": "markdown",
   "metadata": {},
   "source": [
    "## BONUS\n",
    "\n",
    "Lanzas 2 dados. ¿Cuál es la probabilidad de que la suma de los números sea 7? ¿Y 8? ¿Y 9? Luego simula 10000 veces y dibuja un gráfico de conteo.\n",
    "\n",
    "tu explicación aquí"
   ]
  },
  {
   "cell_type": "code",
   "execution_count": 13,
   "metadata": {},
   "outputs": [
    {
     "data": {
      "text/plain": [
       "{2: 266,\n",
       " 3: 540,\n",
       " 4: 813,\n",
       " 5: 1071,\n",
       " 6: 1408,\n",
       " 7: 1684,\n",
       " 8: 1419,\n",
       " 9: 1145,\n",
       " 10: 862,\n",
       " 11: 521,\n",
       " 12: 271}"
      ]
     },
     "execution_count": 13,
     "metadata": {},
     "output_type": "execute_result"
    }
   ],
   "source": [
    "import random\n",
    "import matplotlib.pyplot as plt\n",
    "\n",
    "def lanzar_dado():\n",
    "    return random.randint(1,6)\n",
    "    \n",
    "# Create a dictionary\n",
    "suma = {resultado : 0 for resultado in range(2, 13)} # range(2,13) are all the possible values the sum of two dices can go\n",
    "\n",
    "num_lanzamientos = 10000\n",
    "\n",
    "\n",
    "for _ in range (num_lanzamientos):\n",
    "    dado1 = lanzar_dado()\n",
    "    dado2 = lanzar_dado()\n",
    "    suma_dados = dado1 + dado2\n",
    "    suma[suma_dados] += 1\n",
    "\n",
    "suma"
   ]
  },
  {
   "cell_type": "code",
   "execution_count": 15,
   "metadata": {},
   "outputs": [
    {
     "data": {
      "image/png": "[encoded data removed]",
      "text/plain": [
       "<Figure size 640x480 with 1 Axes>"
      ]
     },
     "metadata": {},
     "output_type": "display_data"
    }
   ],
   "source": [
    "plt.bar(x=suma.keys(), height =suma.values())\n",
    "plt.show()"
   ]
  },
  {
   "cell_type": "code",
   "execution_count": 19,
   "metadata": {},
   "outputs": [
    {
     "data": {
      "text/plain": [
       "{2: 0.0266,\n",
       " 3: 0.054,\n",
       " 4: 0.0813,\n",
       " 5: 0.1071,\n",
       " 6: 0.1408,\n",
       " 7: 0.1684,\n",
       " 8: 0.1419,\n",
       " 9: 0.1145,\n",
       " 10: 0.0862,\n",
       " 11: 0.0521,\n",
       " 12: 0.0271}"
      ]
     },
     "execution_count": 19,
     "metadata": {},
     "output_type": "execute_result"
    }
   ],
   "source": [
    "# Probability of 7, 8 and 9\n",
    "\n",
    "for resultado in range(2,13):\n",
    "    suma[resultado] /= num_lanzamientos\n",
    "\n",
    "suma"
   ]
  },
  {
   "cell_type": "code",
   "execution_count": 39,
   "metadata": {},
   "outputs": [
    {
     "name": "stdout",
     "output_type": "stream",
     "text": [
      "probability of getting 7 is 0.1684\n",
      "probability of getting 8 is 0.1419\n",
      "probability of getting 8 is 0.1145\n"
     ]
    }
   ],
   "source": [
    "# According to this experiment these are the probabilities\n",
    "pseven = suma[7]\n",
    "peight = suma[8]\n",
    "pnine = suma[9]\n",
    "\n",
    "print(f'probability of getting 7 is {pseven}')\n",
    "print(f'probability of getting 8 is {peight}')\n",
    "print(f'probability of getting 8 is {pnine}')"
   ]
  },
  {
   "cell_type": "code",
   "execution_count": 43,
   "metadata": {},
   "outputs": [
    {
     "data": {
      "text/plain": [
       "' \\n  1 2 3 4 5 6 \\n1 2 3 4 5 6 7\\n2 3 4 5 6 7 8\\n3 4 5 6 7 8 9\\n4 5 6 7 8 9 10\\n5 6 7 8 9 10 11\\n6 7 8 9 10 11 12\\n\\n\\nTheoretical probability\\nP(7) = 6/36\\nP(8) = P(6) = 5/36\\nP(9) = P(5) = 4/36\\n\\n'"
      ]
     },
     "execution_count": 43,
     "metadata": {},
     "output_type": "execute_result"
    }
   ],
   "source": [
    "''' \n",
    "  1 2 3 4 5 6 \n",
    "1 2 3 4 5 6 7\n",
    "2 3 4 5 6 7 8\n",
    "3 4 5 6 7 8 9\n",
    "4 5 6 7 8 9 10\n",
    "5 6 7 8 9 10 11\n",
    "6 7 8 9 10 11 12\n",
    "\n",
    "\n",
    "Theoretical probability\n",
    "P(7) = 6/36\n",
    "P(8) = P(6) = 5/36\n",
    "P(9) = P(5) = 4/36\n",
    "\n",
    "'''"
   ]
  }
 ],
 "metadata": {
  "kernelspec": {
   "display_name": "Python 3 (ipykernel)",
   "language": "python",
   "name": "python3"
  },
  "language_info": {
   "codemirror_mode": {
    "name": "ipython",
    "version": 3
   },
   "file_extension": ".py",
   "mimetype": "text/x-python",
   "name": "python",
   "nbconvert_exporter": "python",
   "pygments_lexer": "ipython3",
   "version": "3.12.4"
  },
  "toc": {
   "base_numbering": 1,
   "nav_menu": {},
   "number_sections": false,
   "sideBar": true,
   "skip_h1_title": false,
   "title_cell": "Table of Contents",
   "title_sidebar": "Contents",
   "toc_cell": false,
   "toc_position": {
    "height": "calc(100% - 180px)",
    "left": "10px",
    "top": "150px",
    "width": "296.475px"
   },
   "toc_section_display": true,
   "toc_window_display": false
  },
  "varInspector": {
   "cols": {
    "lenName": 16,
    "lenType": 16,
    "lenVar": 40
   },
   "kernels_config": {
    "python": {
     "delete_cmd_postfix": "",
     "delete_cmd_prefix": "del ",
     "library": "var_list.py",
     "varRefreshCmd": "print(var_dic_list())"
    },
    "r": {
     "delete_cmd_postfix": ") ",
     "delete_cmd_prefix": "rm(",
     "library": "var_list.r",
     "varRefreshCmd": "cat(var_dic_list()) "
    }
   },
   "types_to_exclude": [
    "module",
    "function",
    "builtin_function_or_method",
    "instance",
    "_Feature"
   ],
   "window_display": false
  }
 },
 "nbformat": 4,
 "nbformat_minor": 4
}
